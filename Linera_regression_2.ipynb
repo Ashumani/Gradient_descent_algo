{
 "cells": [
  {
   "cell_type": "code",
   "execution_count": 96,
   "metadata": {},
   "outputs": [],
   "source": [
    "import numpy as np\n",
    "from matplotlib import pyplot as plt\n",
    "import random\n",
    "import pandas as pd"
   ]
  },
  {
   "cell_type": "code",
   "execution_count": 97,
   "metadata": {},
   "outputs": [],
   "source": [
    "list1 = [1,2,3,4,5]\n",
    "list2 = [4,5,6,7,40]\n",
    "# for i in range(100):\n",
    "#     list1.append(random.randint(1,101))\n",
    "#     list2.append(random.randint(1,101))"
   ]
  },
  {
   "cell_type": "code",
   "execution_count": 98,
   "metadata": {},
   "outputs": [],
   "source": [
    " df = pd.DataFrame({\"firstlist\":list1,\"secondlist\":list2})"
   ]
  },
  {
   "cell_type": "code",
   "execution_count": 99,
   "metadata": {},
   "outputs": [
    {
     "name": "stdout",
     "output_type": "stream",
     "text": [
      "   firstlist  secondlist\n",
      "0          1           4\n",
      "1          2           5\n",
      "2          3           6\n",
      "3          4           7\n",
      "4          5          40\n"
     ]
    }
   ],
   "source": [
    "print(df.head())"
   ]
  },
  {
   "cell_type": "code",
   "execution_count": 100,
   "metadata": {},
   "outputs": [
    {
     "data": {
      "image/png": "[encoded data removed]",
      "text/plain": [
       "<Figure size 432x288 with 1 Axes>"
      ]
     },
     "metadata": {},
     "output_type": "display_data"
    }
   ],
   "source": [
    "plt.scatter(list1,list2, color=\"green\")\n",
    "plt.show()"
   ]
  },
  {
   "cell_type": "code",
   "execution_count": 101,
   "metadata": {},
   "outputs": [
    {
     "name": "stdout",
     "output_type": "stream",
     "text": [
      "3.0 12.4\n"
     ]
    }
   ],
   "source": [
    "\n",
    "mean_list1 = np.mean(list1)\n",
    "mean_list2 = np.mean(list2)\n",
    "print(mean_list1,mean_list2)"
   ]
  },
  {
   "cell_type": "code",
   "execution_count": 102,
   "metadata": {},
   "outputs": [
    {
     "name": "stdout",
     "output_type": "stream",
     "text": [
      "3.0\n"
     ]
    }
   ],
   "source": [
    "n = len(list1)\n",
    "mean_x = 1/n*sum(list1)\n",
    "print(mean_x)"
   ]
  },
  {
   "cell_type": "code",
   "execution_count": 103,
   "metadata": {},
   "outputs": [
    {
     "name": "stdout",
     "output_type": "stream",
     "text": [
      "12.4\n"
     ]
    }
   ],
   "source": [
    "n1= len(list2)\n",
    "mean_y = 1/n*sum(list2)\n",
    "print(mean_y)"
   ]
  },
  {
   "cell_type": "code",
   "execution_count": 104,
   "metadata": {},
   "outputs": [
    {
     "name": "stdout",
     "output_type": "stream",
     "text": [
      "3.0 12.4\n",
      "[1 2 3 4 5]\n",
      "[ 4  5  6  7 40]\n"
     ]
    }
   ],
   "source": [
    "X = df['firstlist'].values\n",
    "Y = df['secondlist'].values\n",
    "mean_x = np.mean(X)\n",
    "mean_y = np.mean(Y)\n",
    "print(mean_x, mean_y)\n",
    "print(X)\n",
    "print(Y)"
   ]
  },
  {
   "cell_type": "code",
   "execution_count": 105,
   "metadata": {},
   "outputs": [],
   "source": [
    "n = len(X)\n",
    "numer = 0\n",
    "denom = 0\n",
    "\n",
    "for i in range(n):\n",
    "#     print(i)\n",
    "#     print(X[i],Y[i])\n",
    "    numer += (X[i] - mean_x) * (Y[i] - mean_y)\n",
    "#     print(numer)\n",
    "    denom += (X[i] - mean_x) ** 2\n",
    "#     print(denom)\n",
    "    m = numer / denom\n",
    "    c = mean_y - (m * mean_x)\n",
    "#     print(m)\n",
    "#     print(c)"
   ]
  },
  {
   "cell_type": "code",
   "execution_count": 106,
   "metadata": {},
   "outputs": [
    {
     "name": "stdout",
     "output_type": "stream",
     "text": [
      "7.4\n",
      "-9.800000000000002\n"
     ]
    }
   ],
   "source": [
    "print(m)\n",
    "print(c)\n",
    "# findmaxx = np.array(X)\n",
    "# findmin = np.array(Y)\n",
    "# print(findmaxx)\n",
    "# print(findmin)"
   ]
  },
  {
   "cell_type": "code",
   "execution_count": 107,
   "metadata": {},
   "outputs": [
    {
     "name": "stdout",
     "output_type": "stream",
     "text": [
      "5\n",
      "105\n",
      "1\n",
      "-99\n"
     ]
    },
    {
     "data": {
      "image/png": "[encoded data removed]",
      "text/plain": [
       "<Figure size 432x288 with 1 Axes>"
      ]
     },
     "metadata": {},
     "output_type": "display_data"
    }
   ],
   "source": [
    "# Plotting Values and Regression Line\n",
    "max_x = np.max(X) + 100  # np.max() is find maximum value in given array or list1\n",
    "print(np.max(X))\n",
    "print(max_x)\n",
    "print(np.min(X))\n",
    "min_x = np.min(X) - 100  #np.min() is find minimum value in given array or list2\n",
    "print(min_x)\n",
    "# Calculating line values x and y\n",
    "x = np.linspace(min_x, max_x,1000)\n",
    "y = c + m * x \n",
    "# print(x)\n",
    "# print(y)\n",
    "# print(type(x))\n",
    " \n",
    "# Ploting Line\n",
    "\n",
    "plt.plot(x, y, color='black', label='Regression Line')\n",
    "# Ploting Scatter Points\n",
    "plt.scatter(X, Y, c='green', label='Scatter Plot')\n",
    " \n",
    "plt.xlabel('First List')\n",
    "plt.ylabel('Second List')\n",
    "plt.legend()\n",
    "plt.show()"
   ]
  },
  {
   "cell_type": "code",
   "execution_count": null,
   "metadata": {},
   "outputs": [],
   "source": []
  },
  {
   "cell_type": "code",
   "execution_count": null,
   "metadata": {},
   "outputs": [],
   "source": []
  },
  {
   "cell_type": "code",
   "execution_count": null,
   "metadata": {},
   "outputs": [],
   "source": []
  }
 ],
 "metadata": {
  "kernelspec": {
   "display_name": "Python 3",
   "language": "python",
   "name": "python3"
  },
  "language_info": {
   "codemirror_mode": {
    "name": "ipython",
    "version": 3
   },
   "file_extension": ".py",
   "mimetype": "text/x-python",
   "name": "python",
   "nbconvert_exporter": "python",
   "pygments_lexer": "ipython3",
   "version": "3.6.5"
  }
 },
 "nbformat": 4,
 "nbformat_minor": 2
}
