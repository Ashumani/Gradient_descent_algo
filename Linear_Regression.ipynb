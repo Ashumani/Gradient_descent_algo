{
 "cells": [
  {
   "cell_type": "code",
   "execution_count": 4,
   "metadata": {},
   "outputs": [],
   "source": [
    "# 100 point generate (x,y)\n",
    "# create dataframe\n",
    "# split 80 for training 20 for testing\n",
    "# Algorithm: \n",
    "#     y=mx+c\n",
    "#     iterate over training set\n",
    "#     ERROR = MEAN SQUARRED ERROR\n",
    "# learning Rule = 0.01 0.001\n",
    "# update equation:\n",
    "#     m = m-x*e\n",
    "#     c = c- x*e\n",
    "# plot matplotlib\n"
   ]
  },
  {
   "cell_type": "code",
   "execution_count": 1,
   "metadata": {},
   "outputs": [],
   "source": [
    "import numpy as np\n",
    "from matplotlib import pyplot as plt\n",
    "import random\n",
    "import pandas as pd"
   ]
  },
  {
   "cell_type": "code",
   "execution_count": 2,
   "metadata": {},
   "outputs": [],
   "source": [
    "list1 =[]\n",
    "list2 =[]\n",
    "for random_num in range(100):\n",
    "    list1.append(random.randint(1,101))\n",
    "    list2.append(random.randint(1,1001))\n"
   ]
  },
  {
   "cell_type": "code",
   "execution_count": 5,
   "metadata": {},
   "outputs": [
    {
     "name": "stdout",
     "output_type": "stream",
     "text": [
      "[101, 93, 89, 8, 27, 11, 27, 28, 90, 64, 10, 97, 57, 15, 22, 1, 79, 38, 48, 34, 49, 60, 28, 72, 39, 89, 96, 32, 55, 84, 15, 95, 74, 64, 20, 51, 38, 19, 101, 50, 27, 9, 46, 70, 96, 91, 7, 66, 10, 63, 65, 12, 49, 17, 45, 35, 92, 40, 36, 85, 82, 81, 12, 10, 52, 14, 45, 96, 4, 44, 9, 64, 35, 48, 64, 40, 28, 37, 65, 69, 32, 68, 46, 22, 53, 2, 56, 84, 80, 24, 61, 32, 35, 27, 78, 36, 5, 49, 46, 70]\n",
      "[848, 167, 957, 641, 444, 983, 781, 354, 788, 2, 94, 325, 305, 558, 547, 473, 842, 591, 436, 174, 40, 612, 33, 774, 698, 562, 383, 704, 524, 290, 92, 859, 498, 495, 902, 808, 471, 674, 877, 544, 613, 305, 879, 214, 166, 430, 818, 970, 48, 679, 309, 271, 332, 470, 336, 337, 513, 90, 365, 586, 650, 390, 618, 150, 509, 600, 889, 471, 521, 696, 74, 481, 377, 207, 286, 876, 869, 400, 724, 975, 284, 818, 502, 530, 382, 381, 588, 453, 391, 326, 171, 435, 161, 60, 514, 50, 387, 195, 665, 916]\n"
     ]
    },
    {
     "data": {
      "image/png": "[encoded data removed]",
      "text/plain": [
       "<Figure size 432x288 with 1 Axes>"
      ]
     },
     "metadata": {},
     "output_type": "display_data"
    }
   ],
   "source": [
    "\n",
    "print(list1)\n",
    "print(list2)\n",
    "\n",
    "plt.scatter(list1,list2, color='green')\n",
    "plt.show()\n",
    "\n",
    "\n"
   ]
  },
  {
   "cell_type": "code",
   "execution_count": 8,
   "metadata": {},
   "outputs": [
    {
     "name": "stdout",
     "output_type": "stream",
     "text": [
      "(100, 4)\n",
      "100\n"
     ]
    }
   ],
   "source": [
    "\n",
    "\n",
    "df  = pd.DataFrame({'firstlist' : list1,\n",
    "                   'secondlist' : list2},\n",
    "                    columns=['firstlist','secondlist'])\n",
    "df['split'] = np.random.randn(df.shape[0],1)\n",
    "df['split2'] =np.random.randn(100,1)\n",
    "print(df.shape)\n",
    "print(df.shape[0])\n",
    "\n",
    "\n",
    "msk = np.random.rand(len(df)) <= 0.8\n",
    "\n",
    "train1 = df[msk]\n",
    "test1 = df[~msk]"
   ]
  },
  {
   "cell_type": "code",
   "execution_count": 14,
   "metadata": {},
   "outputs": [
    {
     "name": "stdout",
     "output_type": "stream",
     "text": [
      "   firstlist  secondlist     split    split2\n",
      "0        101         848 -0.160793 -0.722432\n",
      "1         93         167 -0.622106  0.332978\n",
      "2         89         957 -0.876882  0.692113\n",
      "3          8         641  0.026456  1.062536\n",
      "4         27         444  0.147579 -0.900221\n",
      "   firstlist  secondlist     split    split2\n",
      "0        101         848 -0.160793 -0.722432\n",
      "2         89         957 -0.876882  0.692113\n",
      "3          8         641  0.026456  1.062536\n",
      "4         27         444  0.147579 -0.900221\n",
      "5         11         983  0.296803  1.295640\n",
      "    firstlist  secondlist     split    split2\n",
      "1          93         167 -0.622106  0.332978\n",
      "6          27         781 -2.097519 -0.266454\n",
      "18         48         436 -1.382131  0.940606\n",
      "23         72         774 -0.313048  0.395517\n",
      "29         84         290  0.996721  1.256418\n"
     ]
    }
   ],
   "source": [
    "print(df.head())\n",
    "print(train1.head())\n",
    "print(test1.head())\n"
   ]
  },
  {
   "cell_type": "code",
   "execution_count": 10,
   "metadata": {},
   "outputs": [
    {
     "name": "stdout",
     "output_type": "stream",
     "text": [
      "100\n",
      "   firstlist  secondlist     split    split2\n",
      "0         98         860 -0.362085  1.246238\n",
      "1         96         559  1.018583  0.611995\n",
      "2         49         255 -0.181300 -0.252228\n",
      "3         89         435 -0.348342  0.320016\n",
      "4         61         797  0.741238 -0.594603\n",
      "(80, 4)\n",
      "(20, 4)\n"
     ]
    }
   ],
   "source": [
    "print(df.shape[0])\n",
    "print(df.head())\n",
    "slice_list1 = df[0:80]\n",
    "slice_list2 = df[80:100]\n",
    "print(slice_list1.shape)\n",
    "print(slice_list2.shape)\n"
   ]
  },
  {
   "cell_type": "code",
   "execution_count": null,
   "metadata": {},
   "outputs": [],
   "source": []
  },
  {
   "cell_type": "code",
   "execution_count": 17,
   "metadata": {},
   "outputs": [
    {
     "name": "stdout",
     "output_type": "stream",
     "text": [
      "48.36 488.53\n"
     ]
    }
   ],
   "source": [
    "X = df['firstlist'].values\n",
    "Y = df['secondlist'].values\n",
    "mean_x = np.mean(X)\n",
    "mean_y = np.mean(Y)\n",
    "print(mean_x, mean_y)\n",
    "\n"
   ]
  },
  {
   "cell_type": "code",
   "execution_count": 12,
   "metadata": {},
   "outputs": [
    {
     "name": "stdout",
     "output_type": "stream",
     "text": [
      "64.6132917038359\n",
      "233.24065267368985\n",
      "220.61816597073187\n",
      "311.9547027427227\n",
      "290.0504057461768\n",
      "289.7950754029315\n",
      "339.85847072950696\n",
      "232.6197023507164\n",
      "246.89479415455716\n",
      "337.7414559381116\n",
      "329.4327413534251\n",
      "318.4506707179295\n",
      "445.71939139927736\n",
      "488.95938494170565\n",
      "496.111861914716\n",
      "540.5799963359663\n",
      "538.8140200184038\n",
      "535.4478432975656\n",
      "522.6157619678515\n",
      "504.0765636258726\n",
      "507.94916726587184\n",
      "489.09213710829533\n",
      "513.3856273183463\n",
      "474.83536278466266\n",
      "456.3490747526371\n",
      "463.85748241722143\n",
      "466.59397460578657\n",
      "462.2138230761807\n",
      "460.0630912976859\n",
      "441.85580729285556\n",
      "446.00427633355247\n",
      "447.0550481672508\n",
      "444.1126295367549\n",
      "469.68958924834885\n",
      "450.99998129778766\n",
      "431.78509550827357\n",
      "440.62313671950307\n",
      "430.8936021678913\n",
      "431.253345113249\n",
      "442.4424176286804\n",
      "423.5511255518514\n",
      "416.21574584719457\n",
      "410.456221213573\n",
      "397.14001961935105\n",
      "408.2989958813637\n",
      "407.57063659090517\n",
      "409.0739406738079\n",
      "410.8782563501311\n",
      "415.5371431730645\n",
      "403.59273065144106\n",
      "397.7296947303025\n",
      "397.9521579669341\n",
      "416.396347218338\n",
      "417.51750514830525\n",
      "417.48946822968026\n",
      "413.34350120424284\n",
      "411.90179658443753\n",
      "403.6447837270225\n",
      "405.9186194909989\n",
      "405.34778790169736\n",
      "406.39560409092934\n",
      "430.2723130989123\n",
      "424.93807686402124\n",
      "445.7648831585444\n",
      "445.4683315828745\n",
      "437.987331594469\n",
      "452.3156929464938\n",
      "462.87452742770284\n",
      "463.6644443240669\n",
      "470.9570448125759\n",
      "461.1086064107514\n",
      "457.4556354632145\n",
      "455.9166866982111\n",
      "457.4435062134146\n",
      "447.46027990100237\n",
      "448.3641788364471\n",
      "447.24112857956925\n",
      "446.2012269442646\n",
      "446.94299691078515\n",
      "450.7989978435052\n",
      "455.45055132691397\n",
      "454.1372086218438\n",
      "456.4574119518177\n",
      "456.2732679806922\n",
      "447.82338760708956\n",
      "451.4299009115387\n",
      "453.89466327341256\n",
      "450.0969122270117\n",
      "451.93982357842486\n",
      "454.90996606468053\n",
      "443.2213583065085\n",
      "442.05391199392926\n",
      "458.6090618693561\n",
      "448.56459030467\n",
      "449.75863299839216\n",
      "448.9032624733217\n",
      "451.00396835049827\n",
      "454.34687043032403\n",
      "454.43126312374244\n",
      "455.84216328409923\n"
     ]
    }
   ],
   "source": [
    "n = len(X)\n",
    "numer = 0\n",
    "denom = 0\n",
    "\n",
    "for i in range(n):\n",
    "    numer += (X[i] - mean_x) * (Y[i] - mean_y)\n",
    "    denom += (X[i] - mean_x) ** 2\n",
    "    m = numer / denom\n",
    "    c = mean_y - (m * mean_x)\n",
    "    print(c)\n",
    "    \n",
    "    "
   ]
  },
  {
   "cell_type": "code",
   "execution_count": 13,
   "metadata": {},
   "outputs": [
    {
     "name": "stdout",
     "output_type": "stream",
     "text": [
      "0.7567313151975311 455.84216328409923\n"
     ]
    }
   ],
   "source": [
    "print(m, c)\n"
   ]
  },
  {
   "cell_type": "code",
   "execution_count": 32,
   "metadata": {},
   "outputs": [
    {
     "name": "stdout",
     "output_type": "stream",
     "text": [
      "100\n",
      "5\n",
      "200\n",
      "-95\n",
      "           x           y\n",
      "0 -95.000000  383.952688\n",
      "1 -94.704705  384.176148\n",
      "2 -94.409409  384.399607\n",
      "3 -94.114114  384.623066\n",
      "4 -93.818819  384.846525\n",
      "[ 98  96  49  89  61  52  39  17  58  29  48  61   5  14  66  77  68  42\n",
      "  22  84  28  79  82   7  67 100  99   9  42  79  62  49  49  20  32   8\n",
      "  23  98  65  29  83  42  71  21  96  78  38  57  36  74  30 100  87  19\n",
      "  53   7  91  77  44  51  40   6  83   5   5  97  90  84  64  35  23  18\n",
      "  82  42   5  71  59  47  79  85  36  40  91  54  18 100   6  94  39  29\n",
      "  11  60   5  12  58  77  86  95  55  73]\n",
      "[860 559 255 435 797 470 801  15 146 901 258 716 819 693 378  75 511 435\n",
      " 416 642 543 704 240 220 972 468 498 425 398 855 277 615 148 855  30 222\n",
      " 627 675 492 755 931  59 732 168 393 558 542 165 665 947 268 579 120 472\n",
      " 351 350 589 847 705 253 546 898 706 869 444 724 102 133 420 944 103 350\n",
      " 581 652 203 449 742 279 484 370 831 357 445 786 147 432 531 664 674 657\n",
      "  46 760 980  81 110 574 422 400 422 394]\n"
     ]
    },
    {
     "data": {
      "image/png": "[encoded data removed]",
      "text/plain": [
       "<Figure size 432x288 with 1 Axes>"
      ]
     },
     "metadata": {},
     "output_type": "display_data"
    }
   ],
   "source": [
    "# Plotting Values and Regression Line\n",
    "print(np.max(X))\n",
    "print(np.min(X))\n",
    "max_x = np.max(X) + 100\n",
    "min_x = np.min(X) - 100\n",
    "print(max_x)\n",
    "print(min_x)\n",
    "# Calculating line values x and y\n",
    "x1 = np.linspace(min_x, max_x, 1000)\n",
    "y1 = c + m * x \n",
    "df1 = pd.DataFrame({\"x\":x1,\"y\":y1})\n",
    "print(df1.head())\n",
    "\n",
    "\n",
    " \n",
    "# Ploting Line\n",
    "\n",
    "plt.plot(x1, y1, color='black', label='Regression Line')\n",
    "# Ploting Scatter Points\n",
    "plt.scatter(X, Y, c='green', label='Scatter Plot')\n",
    "print(X)\n",
    "print(Y)\n",
    "\n",
    " \n",
    "plt.xlabel('First List')\n",
    "plt.ylabel('Second List')\n",
    "plt.legend()\n",
    "plt.show()"
   ]
  },
  {
   "cell_type": "code",
   "execution_count": null,
   "metadata": {},
   "outputs": [],
   "source": []
  }
 ],
 "metadata": {
  "kernelspec": {
   "display_name": "Python 3",
   "language": "python",
   "name": "python3"
  },
  "language_info": {
   "codemirror_mode": {
    "name": "ipython",
    "version": 3
   },
   "file_extension": ".py",
   "mimetype": "text/x-python",
   "name": "python",
   "nbconvert_exporter": "python",
   "pygments_lexer": "ipython3",
   "version": "3.6.5"
  }
 },
 "nbformat": 4,
 "nbformat_minor": 2
}
